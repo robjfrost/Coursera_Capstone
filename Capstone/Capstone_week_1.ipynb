{
 "cells": [
  {
   "cell_type": "markdown",
   "metadata": {},
   "source": [
    "# Capstone Project - Week 1\n",
    "#### Applied Data Science Capstone"
   ]
  },
  {
   "cell_type": "markdown",
   "metadata": {},
   "source": [
    "## Table of Contents\n",
    "\n",
    "* [Introduction](#Introduction)\n",
    "* [Data](#Data)"
   ]
  },
  {
   "cell_type": "markdown",
   "metadata": {},
   "source": [
    "## Introduction <a name=\"Introduction\"></a>"
   ]
  },
  {
   "cell_type": "markdown",
   "metadata": {},
   "source": [
    "As the United States is a large country, the cities within the it are quite diverse.  As such, it can be difficult for people to decide where in the US, and even within a state, is right for them. \n",
    "\n",
    "To this end, this project will focus on determining what cities in the US are right for someone who enjoys the outdoors. While there are many potential situations and conditions that could be analyzed regarding living conditions in different cities, the 'healthiness' of a city is a factor of interest to me and many other young people.\n",
    "\n",
    "To determine 'healthiness' we will take a look at outdoor spaces in cities. This certainly does not include all, or potentially most, factors that make a city healthy, but the amount of devoted outdoor spaces does suggest how interested a city is in keeping a balance between urban life and nature. This does not take into account the size of the green spaces, but we can understand how groups of cities might appeal to us based on the types of green spaces.\n",
    "\n",
    "The target audience for this project is mainly young and other active people who might want an outdoor space to relax or exercise in. Other potential audience includes environmentally conscious people that want outdoor green space."
   ]
  },
  {
   "cell_type": "markdown",
   "metadata": {},
   "source": [
    "## Data <a name=\"Data\"></a>"
   ]
  },
  {
   "cell_type": "markdown",
   "metadata": {},
   "source": [
    "The data for this project will be based on foursquare's **Outdoors & Recreation** venue category. The cities we will be analyzing will be the top 150 most populous cities in the US based on data from wikipedia (see: [This link](https://en.wikipedia.org/wiki/List_of_United_States_cities_by_population)). We will take a look at the following:\n",
    "\n",
    "* The number of venues\n",
    "* The type of venues\n",
    "* The clustering of cities based on the types of venues present in those cities\n",
    "\n",
    "Table data will be scraped from Wikipedia using the wikitablescraper package for Python.\n",
    "\n",
    "The data will be up to 100 venues from an area within 0.5-1 km of the city center (as provided in the wiki table). Assuming that not all cities will max out the possible venue count, we may compare raw number counts to gauge an estimate of how much space is devoted to outdoor/physical activities in the various cities in comparison with one another. The types of venues will then be used to cluster the cities, and the clusters will be analyzed to determine how the cities are being clustered.\n",
    "e.g. some cities may have more parks and green space than others, while another cluster of cities may have more indoor recreation facilities than the others."
   ]
  },
  {
   "cell_type": "code",
   "execution_count": null,
   "metadata": {},
   "outputs": [],
   "source": []
  }
 ],
 "metadata": {
  "kernelspec": {
   "display_name": "Python 3",
   "language": "python",
   "name": "python3"
  },
  "language_info": {
   "codemirror_mode": {
    "name": "ipython",
    "version": 3
   },
   "file_extension": ".py",
   "mimetype": "text/x-python",
   "name": "python",
   "nbconvert_exporter": "python",
   "pygments_lexer": "ipython3",
   "version": "3.8.3"
  }
 },
 "nbformat": 4,
 "nbformat_minor": 4
}
